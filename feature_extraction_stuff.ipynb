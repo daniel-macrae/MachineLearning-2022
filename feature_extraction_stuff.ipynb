{
 "cells": [
  {
   "cell_type": "code",
   "execution_count": 26,
   "metadata": {},
   "outputs": [],
   "source": [
    "import pandas as pd\n",
    "import numpy as np\n",
    "import sys\n",
    "import os\n",
    "import cv2\n",
    "import matplotlib.pyplot as plt\n",
    "import random\n",
    "from collections import Counter"
   ]
  },
  {
   "attachments": {},
   "cell_type": "markdown",
   "metadata": {},
   "source": [
    "# Loading the data"
   ]
  },
  {
   "cell_type": "code",
   "execution_count": 27,
   "metadata": {},
   "outputs": [],
   "source": [
    "from src.dataLoading import loadNormalMNIST, loadChineseMNIST\n",
    "\n",
    "samplesPerClass = 1000  # same number of samples per class as the whole chinese MNIST data\n",
    "\n",
    "mnistVectors, mnistImages, mnistLabels = loadNormalMNIST()\n",
    "\n",
    "chineseVectors, chineseImages, chineseLabels = loadChineseMNIST()\n"
   ]
  },
  {
   "cell_type": "code",
   "execution_count": 28,
   "metadata": {},
   "outputs": [
    {
     "data": {
      "text/plain": [
       "<matplotlib.image.AxesImage at 0x26a3554cdd0>"
      ]
     },
     "execution_count": 28,
     "metadata": {},
     "output_type": "execute_result"
    },
    {
     "data": {
      "image/png": "[encoded data removed]",
      "text/plain": [
       "<Figure size 640x480 with 1 Axes>"
      ]
     },
     "metadata": {},
     "output_type": "display_data"
    }
   ],
   "source": [
    "img = chineseImages[random.randint(0, len(chineseImages))]\n",
    "plt.imshow(img, cmap='gray')"
   ]
  },
  {
   "cell_type": "code",
   "execution_count": 29,
   "metadata": {},
   "outputs": [
    {
     "data": {
      "text/plain": [
       "<matplotlib.image.AxesImage at 0x26a36041d10>"
      ]
     },
     "execution_count": 29,
     "metadata": {},
     "output_type": "execute_result"
    },
    {
     "data": {
      "image/png": "[encoded data removed]",
      "text/plain": [
       "<Figure size 640x480 with 1 Axes>"
      ]
     },
     "metadata": {},
     "output_type": "display_data"
    }
   ],
   "source": [
    "img =mnistImages[random.randint(0, len(mnistImages))]\n",
    "plt.imshow(img, cmap='gray')"
   ]
  },
  {
   "attachments": {},
   "cell_type": "markdown",
   "metadata": {},
   "source": [
    "## Feature extraction: train-test split"
   ]
  },
  {
   "cell_type": "code",
   "execution_count": 30,
   "metadata": {},
   "outputs": [
    {
     "name": "stdout",
     "output_type": "stream",
     "text": [
      "X_train_chinese\n",
      "X_train_mnist\n"
     ]
    }
   ],
   "source": [
    "from sklearn.model_selection import train_test_split\n",
    "\n",
    "\"\"\"\n",
    "names = ['original chinese', 'smaller chinese', 'mnist']\n",
    "short_names = ['_og_ch', '_sm_ch', '_mnist']\n",
    "#data = [allChineseImages, smallerChineseImages, mnistImages]\n",
    "data = [chineseImages, augChineseImages, mnistImages]\n",
    "\n",
    "labels = [chineselabels, augChineselabels, mnistLabels]\n",
    "\n",
    "for i in range(len(names)):\n",
    "    locals()['X_train'+short_names[i]], locals()['X_test'+short_names[i]], locals()['Y_train'+short_names[i]], locals()['Y_test'+short_names[i]] = train_test_split(data[i], labels[i], train_size=0.8, random_state=42)\n",
    "    print('X_train'+short_names[i])\n",
    "\n",
    "data_train = [X_train_og_ch, X_train_sm_ch, X_train_mnist]\n",
    "labels_train = [Y_train_og_ch, Y_train_sm_ch, Y_train_mnist]\n",
    "\n",
    "data_test = [X_test_og_ch, X_test_sm_ch, X_test_mnist]\n",
    "labels_test = [Y_test_og_ch, Y_test_sm_ch, Y_test_mnist]\n",
    "\"\"\"\n",
    "names = ['smaller chinese', 'mnist']\n",
    "short_names = ['_chinese', '_mnist']\n",
    "#data = [allChineseImages, smallerChineseImages, mnistImages]\n",
    "data_vect = [chineseVectors, mnistVectors]\n",
    "data_images = [chineseImages, mnistImages]\n",
    "labels = [chineseLabels, mnistLabels]\n",
    "\n",
    "for i in range(len(names)):\n",
    "    locals()['X_vec_train'+short_names[i]], locals()['X_vec_test'+short_names[i]], locals()['Y_train'+short_names[i]], locals()['Y_test'+short_names[i]] = train_test_split(data_vect[i], labels[i], train_size=0.8, random_state=42)\n",
    "    locals()['X_img_train'+short_names[i]], locals()['X_img_test'+short_names[i]], locals()['Y_train'+short_names[i]], locals()['Y_test'+short_names[i]] = train_test_split(data_images[i], labels[i], train_size=0.8, random_state=42)\n",
    "\n",
    "    print('X_train'+short_names[i])\n",
    "\n",
    "data_vec_train = [X_vec_train_chinese, X_vec_train_mnist]\n",
    "data_img_train = [X_img_train_chinese, X_img_train_mnist]\n",
    "\n",
    "labels_train = [Y_train_chinese, Y_train_mnist]\n",
    "\n",
    "data_vec_test = [X_vec_test_chinese, X_vec_test_mnist]\n",
    "data_img_test = [X_img_test_chinese, X_img_test_mnist]\n",
    "\n",
    "labels_test = [Y_test_chinese, Y_test_mnist]\n"
   ]
  },
  {
   "attachments": {},
   "cell_type": "markdown",
   "metadata": {},
   "source": [
    "## PCA\n",
    "Parameter tunning missing"
   ]
  },
  {
   "cell_type": "code",
   "execution_count": 31,
   "metadata": {},
   "outputs": [],
   "source": [
    "from sklearn.decomposition import PCA\n",
    "sklearn_pca = PCA(n_components=20)\n"
   ]
  },
  {
   "cell_type": "code",
   "execution_count": 32,
   "metadata": {},
   "outputs": [
    {
     "name": "stdout",
     "output_type": "stream",
     "text": [
      "smaller chinese\n",
      "acc: 0.9895\n",
      "mnist\n",
      "acc: 0.955\n"
     ]
    }
   ],
   "source": [
    "from sklearn.svm import SVC\n",
    "from sklearn.metrics import accuracy_score\n",
    "\n",
    "for i in range(len(names)):\n",
    "    print(names[i])\n",
    "    X_train = sklearn_pca.fit_transform(data_vec_train[i])\n",
    "    X_test = sklearn_pca.transform(data_vec_test[i])\n",
    "\n",
    "    svm = SVC().fit(X_train, labels_train[i])\n",
    "\n",
    "    predictions = svm.predict(X_test)\n",
    "    accuracy = accuracy_score(labels_test[i], predictions)\n",
    "    print(\"acc:\", accuracy)\n"
   ]
  },
  {
   "attachments": {},
   "cell_type": "markdown",
   "metadata": {},
   "source": [
    "## HAND-CRAFTED FEARURES "
   ]
  },
  {
   "attachments": {},
   "cell_type": "markdown",
   "metadata": {},
   "source": [
    "## Mixture of Gaussians"
   ]
  },
  {
   "cell_type": "code",
   "execution_count": 33,
   "metadata": {},
   "outputs": [
    {
     "data": {
      "text/plain": [
       "'\\ndef gmm_bic_score(estimator, X):\\n    \\n    #Callable to pass to GridSearchCV that will use the BIC score\\n    # Make it negative since GridSearchCV expects a score to maximize\\n    return -estimator.bic(X)\\n\\n\\nparam_grid = {\\n    \"n_components\": range(1, 7),\\n    \"covariance_type\": [\"spherical\", \"tied\", \"diag\", \"full\"],\\n}\\ngrid_search = GridSearchCV(\\n    GaussianMixture(), param_grid=param_grid, scoring=gmm_bic_score\\n)\\ngrid_search.fit(smallerChineseImages)\\n'"
      ]
     },
     "execution_count": 33,
     "metadata": {},
     "output_type": "execute_result"
    }
   ],
   "source": [
    "#IGNORE GRID SEARCH\n",
    "\"\"\"\n",
    "def gmm_bic_score(estimator, X):\n",
    "    \n",
    "    #Callable to pass to GridSearchCV that will use the BIC score\n",
    "    # Make it negative since GridSearchCV expects a score to maximize\n",
    "    return -estimator.bic(X)\n",
    "\n",
    "\n",
    "param_grid = {\n",
    "    \"n_components\": range(1, 7),\n",
    "    \"covariance_type\": [\"spherical\", \"tied\", \"diag\", \"full\"],\n",
    "}\n",
    "grid_search = GridSearchCV(\n",
    "    GaussianMixture(), param_grid=param_grid, scoring=gmm_bic_score\n",
    ")\n",
    "grid_search.fit(smallerChineseImages)\n",
    "\"\"\""
   ]
  },
  {
   "cell_type": "code",
   "execution_count": 34,
   "metadata": {},
   "outputs": [
    {
     "data": {
      "text/plain": [
       "'\\n    label_gauss = []\\n    for j in range(n_components):\\n        count = np.where(X_train_GM == j)[0]\\n        gauss1 = np.zeros(len(count))\\n        for i in range(len(count)):\\n            ii = count[i]\\n            gauss1[i] = int(labels[ii])\\n\\n        label_gauss.append(str(mode(gauss1)))\\n    print(label_gauss)\\n\\n'"
      ]
     },
     "execution_count": 34,
     "metadata": {},
     "output_type": "execute_result"
    }
   ],
   "source": [
    "from statistics import mode\n",
    "from sklearn.mixture import GaussianMixture\n",
    "n_components = 10\n",
    "# Vector data\n",
    "def mix_gauss(x_train, x_test, n_components=10):\n",
    "    GM = GaussianMixture(n_components = n_components)\n",
    "    GM.fit(x_train) \n",
    "    # This is enough for the feature\n",
    "    X_train_GM = GM.predict(x_train)\n",
    "    X_test_GM = GM.predict(x_test)\n",
    "\n",
    "    return X_train_GM, X_test_GM\n",
    "\n",
    "    # This will be to plot the features\n",
    "\"\"\"\n",
    "    label_gauss = []\n",
    "    for j in range(n_components):\n",
    "        count = np.where(X_train_GM == j)[0]\n",
    "        gauss1 = np.zeros(len(count))\n",
    "        for i in range(len(count)):\n",
    "            ii = count[i]\n",
    "            gauss1[i] = int(labels[ii])\n",
    "\n",
    "        label_gauss.append(str(mode(gauss1)))\n",
    "    print(label_gauss)\n",
    "\n",
    "\"\"\""
   ]
  },
  {
   "attachments": {},
   "cell_type": "markdown",
   "metadata": {},
   "source": [
    "## KMeans"
   ]
  },
  {
   "cell_type": "code",
   "execution_count": 35,
   "metadata": {},
   "outputs": [],
   "source": [
    "from sklearn.cluster import KMeans\n",
    "\n",
    "n_components = 10\n",
    "# Vector data\n",
    "def K_means(x_train, x_test, n_components=10):\n",
    "    kmeans = KMeans(n_clusters=n_components)\n",
    "\n",
    "    k = 1\n",
    "    X_train_KNN = kmeans.fit_transform(x_train)\n",
    "    X_test_KNN = kmeans.transform(x_test)\n",
    "    #closest cluster will be another feature \n",
    "    closest_cluster = np.zeros(len(X_train_KNN[:,1]))\n",
    "    for i in range(len(X_train_KNN[:,1])):\n",
    "        min = np.min(X_train_KNN[i,:])\n",
    "        index = np.where(X_train_KNN[i,:] == min)[0]\n",
    "        closest_cluster[i] = int(index[0])\n",
    "    X_train = (closest_cluster)\n",
    "\n",
    "    closest_cluster = np.zeros(len(X_test_KNN[:,1]))\n",
    "    for i in range(len(X_test_KNN[:,1])):\n",
    "        min = np.min(X_test_KNN[i,:])\n",
    "        index = np.where(X_test_KNN[i,:] == min)[0]\n",
    "        closest_cluster[i] = int(index[0])\n",
    "    X_test = closest_cluster\n",
    "\n",
    "    return X_train, X_test\n"
   ]
  },
  {
   "attachments": {},
   "cell_type": "markdown",
   "metadata": {},
   "source": [
    "## SUM OF EDGES \n",
    "- Laplacian and Sobel"
   ]
  },
  {
   "cell_type": "code",
   "execution_count": 36,
   "metadata": {},
   "outputs": [],
   "source": [
    "#Laplacian,  same for testing\n",
    "def edges_laplace(data_Images):\n",
    "    edges = np.zeros(len(data_Images)) \n",
    "    for ii in range(len(data_Images)):\n",
    "        img = data_Images[ii].astype('uint8')\n",
    "        lapl = cv2.Laplacian(img, ddepth=-1) # ddepth -1: output same depth as source\n",
    "        edges[ii] = np.sum(lapl)\n",
    "    #plt.imshow(lapl, cmap='gray')\n",
    "    return edges\n"
   ]
  },
  {
   "cell_type": "code",
   "execution_count": 37,
   "metadata": {},
   "outputs": [],
   "source": [
    "# Sobel\n",
    "## WORKS WORSE THAN LAPLACE\n",
    "from scipy.ndimage import sobel\n",
    "\n",
    "def edges_sobel(data_Images):\n",
    "    edges = np.zeros(len(data_Images)) \n",
    "    for ii in range(len(data_Images)):\n",
    "        img = data_Images[ii]\n",
    "        ss = sobel(img)\n",
    "        edges[ii] = np.sum(ss)\n",
    "    #plt.imshow(ss, cmap='gray')\n",
    "    return edges\n",
    "\n"
   ]
  },
  {
   "attachments": {},
   "cell_type": "markdown",
   "metadata": {},
   "source": [
    "## Mean Brigtness\n"
   ]
  },
  {
   "cell_type": "code",
   "execution_count": 38,
   "metadata": {},
   "outputs": [],
   "source": [
    "\n",
    "# Vector data\n",
    "def mean_brightness(data):\n",
    "    brigthness = np.zeros(len(data[:,1])) \n",
    "    for ii in range(len(data[:,1])):\n",
    "        brigthness[ii] = np.sum(data[ii,:])/len(data[ii,:])\n",
    "    return brigthness\n",
    "    "
   ]
  },
  {
   "attachments": {},
   "cell_type": "markdown",
   "metadata": {},
   "source": [
    "## Numbert of Contours"
   ]
  },
  {
   "cell_type": "code",
   "execution_count": 39,
   "metadata": {},
   "outputs": [],
   "source": [
    "def n_Contours(data): \n",
    "    #Contours can be explained simply as a curve joining all the continuous points (along the boundary), having same color or intensity\n",
    "    ## so a 0 should have 2 contours, an 8, 3?\n",
    "#IMAGE DATA\n",
    "    nu_lines = np.zeros(len(data)) \n",
    "    for ii in range(len(data)):\n",
    "        img = data[ii].astype('uint8')\n",
    "        img_bin = cv2.threshold(img, 30, 255, cv2.THRESH_BINARY + cv2.THRESH_OTSU)[1] # the threshold needs to be tuned\n",
    "\n",
    "        num_labels, labels = cv2.findContours(img_bin, cv2.RETR_TREE, cv2.CHAIN_APPROX_SIMPLE)\n",
    "        nu_lines[ii] = np.shape(num_labels)[0]\n",
    "\n",
    "    return nu_lines\n"
   ]
  },
  {
   "attachments": {},
   "cell_type": "markdown",
   "metadata": {},
   "source": [
    "## Number of circles Hough transform\n",
    "\n",
    "The circles dont help at all :("
   ]
  },
  {
   "cell_type": "code",
   "execution_count": 40,
   "metadata": {},
   "outputs": [],
   "source": [
    "def n_Circles(data):\n",
    "    #IMAGE DATA\n",
    "    circles = np.zeros(len(data))\n",
    "    for ii in range(len(data)):\n",
    "        img = data[ii].astype('uint8')\n",
    "        img_bin = cv2.threshold(img, 20, 255, cv2.THRESH_BINARY + cv2.THRESH_OTSU)[1] # the threshold needs to be tuned\n",
    "        try:\n",
    "            circles[ii] = len(cv2.HoughCircles(img_bin,cv2.HOUGH_GRADIENT_ALT, dp=1.5 , minDist = 1,\n",
    "                            param1=100,param2=0, minRadius=0,maxRadius=0)) \n",
    "        except:\n",
    "            continue\n",
    "    return circles\n"
   ]
  },
  {
   "attachments": {},
   "cell_type": "markdown",
   "metadata": {},
   "source": [
    "# Ratio Height/Width"
   ]
  },
  {
   "cell_type": "code",
   "execution_count": 41,
   "metadata": {},
   "outputs": [],
   "source": [
    "# get bounds of white pixels\n",
    "def heigh_width(data):\n",
    "    #IMAGE DATA\n",
    "    ratio = np.zeros(len(data))\n",
    "    for ii in range(len(data)):\n",
    "        img = data[ii].astype('uint8')\n",
    "        img_bin = cv2.threshold(img, 20, 255, cv2.THRESH_BINARY + cv2.THRESH_OTSU)[1] # the threshold needs to be tuned\n",
    "        white = np.where(img_bin == 255)\n",
    "        xmin, ymin, xmax, ymax = np.min(white[1]), np.min(white[0]), np.max(white[1]), np.max(white[0])\n",
    "        ratio[ii] = (ymax-ymin)/(xmax-xmin)\n",
    "        \n",
    "    return ratio"
   ]
  },
  {
   "attachments": {},
   "cell_type": "markdown",
   "metadata": {},
   "source": [
    "## Ratio of center column/row of bounding box"
   ]
  },
  {
   "cell_type": "code",
   "execution_count": 42,
   "metadata": {},
   "outputs": [],
   "source": [
    "# get bounds of white pixels\n",
    "def center_col_row(data):\n",
    "    #IMAGE DATA\n",
    "    ratios = np.zeros(len(data))\n",
    "    for ii in range(len(data)):\n",
    "        img = data[ii].astype('uint8')\n",
    "        img_bin = cv2.threshold(img, 20, 255, cv2.THRESH_BINARY + cv2.THRESH_OTSU)[1] # the threshold needs to be tuned\n",
    "        white = np.where(img_bin != 0)\n",
    "        xmin, ymin, xmax, ymax = np.min(white[1]), np.min(white[0]), np.max(white[1]), np.max(white[0])\n",
    "        yrange, xrange = ymax-ymin, xmax-xmin\n",
    "\n",
    "        x_center = int(np.round((xmax+xmin)/2))\n",
    "        y_center = int(np.round((ymax+ymin)/2))\n",
    "\n",
    "        if xrange%2 != 0:\n",
    "            x_sum = np.sum(img_bin[x_center, :]) + np.sum(img_bin[x_center-1, :])\n",
    "            x_sum /= 2\n",
    "        else: \n",
    "            x_sum = np.sum(img_bin[x_center,:])\n",
    "        if yrange%2 != 0:\n",
    "            y_sum = np.sum(img_bin[:,y_center]) + np.sum(img_bin[:, y_center-1])\n",
    "            y_sum /= 2\n",
    "        else: \n",
    "            y_sum = np.sum(img_bin[: ,y_center])\n",
    "        \n",
    "        if y_sum >= x_sum:\n",
    "            ratios[ii] = 1\n",
    "        else:\n",
    "            ratios[ii] = 0\n",
    "    \"\"\"\n",
    "    plt.imshow(img_bin)\n",
    "    plt.axvline(x_center)\n",
    "    plt.axhline(y_center)\n",
    "    print(xmin, ymin, xmax, ymax)\n",
    "    print(x_center, y_center)\n",
    "    \"\"\"\n",
    "    return ratios\n",
    "\n"
   ]
  },
  {
   "cell_type": "code",
   "execution_count": 43,
   "metadata": {},
   "outputs": [
    {
     "data": {
      "text/plain": [
       "array([1., 1., 1., ..., 1., 1., 1.])"
      ]
     },
     "execution_count": 43,
     "metadata": {},
     "output_type": "execute_result"
    }
   ],
   "source": [
    "center_col_row(X_img_train_mnist)"
   ]
  },
  {
   "attachments": {},
   "cell_type": "markdown",
   "metadata": {},
   "source": [
    "## (White & Black) Island Counting"
   ]
  },
  {
   "cell_type": "code",
   "execution_count": 44,
   "metadata": {},
   "outputs": [],
   "source": [
    "def islandCounter(data):\n",
    "    length = len(data)\n",
    "    whiteIslandsArray = np.zeros(length)\n",
    "    blackIslandsArray = np.zeros(length)\n",
    "    for ii in range(length):\n",
    "        image = data[ii].astype('uint8')\n",
    "\n",
    "        # get the external edges (white object on black background)\n",
    "        ret, thresholdedIm = cv2.threshold(image, 100, 255, cv2.THRESH_BINARY + cv2.THRESH_OTSU)\n",
    "        contours, _  = cv2.findContours(thresholdedIm, cv2.RETR_EXTERNAL, cv2.CHAIN_APPROX_NONE)\n",
    "\n",
    "        # get the number of white islands (just use the contours, this works fine)\n",
    "        whiteIslands = np.zeros_like(thresholdedIm)\n",
    "        numWhiteIslands = len(contours)\n",
    "        whiteIslandsArray[ii] = numWhiteIslands\n",
    "\n",
    "\n",
    "        # Draw contour onto blank mask\n",
    "        mask = np.zeros_like(thresholdedIm)\n",
    "        cv2.fillPoly(mask, pts=contours, color=(255, 255, 255))\n",
    "        # use XOR between the mask and the thresholded image to find the black islands\n",
    "        blackIslands = cv2.bitwise_xor(thresholdedIm, mask)\n",
    "\n",
    "        # get the number of black islands\n",
    "        blackContours, _ = cv2.findContours(blackIslands, cv2.RETR_EXTERNAL, cv2.CHAIN_APPROX_NONE)\n",
    "        numBlackIslands = len(blackContours)\n",
    "        blackIslandsArray[ii] = numBlackIslands\n",
    "\n",
    "    return whiteIslandsArray, blackIslandsArray\n",
    "\n"
   ]
  },
  {
   "attachments": {},
   "cell_type": "markdown",
   "metadata": {},
   "source": [
    "## TRY ALL AT ONCE"
   ]
  },
  {
   "cell_type": "code",
   "execution_count": 45,
   "metadata": {},
   "outputs": [
    {
     "name": "stdout",
     "output_type": "stream",
     "text": [
      "smaller chinese\n"
     ]
    },
    {
     "name": "stderr",
     "output_type": "stream",
     "text": [
      "c:\\Users\\danie\\AppData\\Local\\Programs\\Python\\Python311\\Lib\\site-packages\\numpy\\core\\fromnumeric.py:2009: VisibleDeprecationWarning: Creating an ndarray from ragged nested sequences (which is a list-or-tuple of lists-or-tuples-or ndarrays with different lengths or shapes) is deprecated. If you meant to do this, you must specify 'dtype=object' when creating the ndarray.\n",
      "  result = asarray(a).shape\n"
     ]
    },
    {
     "name": "stdout",
     "output_type": "stream",
     "text": [
      "mnist\n"
     ]
    },
    {
     "name": "stderr",
     "output_type": "stream",
     "text": [
      "c:\\Users\\danie\\AppData\\Local\\Programs\\Python\\Python311\\Lib\\site-packages\\numpy\\core\\fromnumeric.py:2009: VisibleDeprecationWarning: Creating an ndarray from ragged nested sequences (which is a list-or-tuple of lists-or-tuples-or ndarrays with different lengths or shapes) is deprecated. If you meant to do this, you must specify 'dtype=object' when creating the ndarray.\n",
      "  result = asarray(a).shape\n"
     ]
    }
   ],
   "source": [
    "X_train_sets = []\n",
    "X_test_sets = []\n",
    "\n",
    "for d in range(len(names)):\n",
    "        print(names[d])\n",
    "        n_components = 10\n",
    "        # I will append each feature\n",
    "        X_train = []\n",
    "        X_test = []\n",
    "\n",
    "        MG_train, MG_test = mix_gauss(data_vec_train[d], data_vec_test[d], n_components)\n",
    "        X_train.append(MG_train)\n",
    "        X_test.append(MG_test)\n",
    "\n",
    "        KM_train, KM_test = K_means(data_vec_train[d], data_vec_test[d], n_components)\n",
    "        X_train.append(KM_train)\n",
    "        X_test.append(KM_test)\n",
    "\n",
    "        X_train.append(edges_laplace(data_img_train[d]))\n",
    "        X_test.append(edges_laplace(data_img_test[d]))\n",
    "\n",
    "        X_train.append(mean_brightness(data_vec_train[d]))\n",
    "        X_test.append(mean_brightness(data_vec_test[d]))\n",
    "\n",
    "        X_train.append(n_Contours(data_img_train[d]))\n",
    "        X_test.append(n_Contours(data_img_test[d]))\n",
    "\n",
    "        #X_train.append(n_Circles(data_img_train[d]))\n",
    "        #X_test.append(n_Circles(data_img_test[d]))\n",
    "\n",
    "        X_train.append(heigh_width(data_img_train[d]))\n",
    "        X_test.append(heigh_width(data_img_test[d]))\n",
    "\n",
    "        X_train.append(center_col_row(data_img_train[d]))\n",
    "        X_test.append(center_col_row(data_img_test[d]))\n",
    "        \n",
    "        trainWhites, trainBlacks = islandCounter(data_img_train[d])\n",
    "        X_train.append(trainWhites)\n",
    "        X_train.append(trainBlacks)\n",
    "        testWhites, testBlacks = islandCounter(data_img_test[d])\n",
    "        X_test.append(testWhites)\n",
    "        X_test.append(testBlacks)\n",
    "\n",
    "        # transpose the results here\n",
    "        X_train_sets.append(np.asarray(X_train).T)\n",
    "        X_test_sets.append(np.asarray(X_test).T) "
   ]
  },
  {
   "cell_type": "code",
   "execution_count": 46,
   "metadata": {},
   "outputs": [
    {
     "name": "stdout",
     "output_type": "stream",
     "text": [
      "2\n",
      "8000\n",
      "9\n"
     ]
    }
   ],
   "source": [
    "print(len(X_train_sets)) # how many X train sets\n",
    "print(len(X_train_sets[0])) # how many images in that\n",
    "print(len(X_train_sets[0][0])) # how many features per image"
   ]
  },
  {
   "cell_type": "code",
   "execution_count": 47,
   "metadata": {},
   "outputs": [
    {
     "name": "stdout",
     "output_type": "stream",
     "text": [
      "smaller chinese\n",
      "acc: 0.4635\n",
      "mnist\n",
      "acc: 0.2715\n"
     ]
    }
   ],
   "source": [
    "from sklearn.neighbors import KNeighborsClassifier\n",
    "from sklearn.metrics import accuracy_score\n",
    "\n",
    "for d in range(len(names)):\n",
    "        print(names[d])\n",
    "        knn = KNeighborsClassifier(n_neighbors=3).fit(X_train_sets[d], labels_train[d])\n",
    "        predictions = knn.predict(X_test_sets[d])\n",
    "        accuracy = accuracy_score(labels_test[d], predictions)\n",
    "        print(\"acc:\", accuracy)\n"
   ]
  },
  {
   "cell_type": "code",
   "execution_count": 48,
   "metadata": {},
   "outputs": [
    {
     "name": "stdout",
     "output_type": "stream",
     "text": [
      "smaller chinese\n",
      "acc: 0.3075\n",
      "mnist\n",
      "acc: 0.302\n"
     ]
    }
   ],
   "source": [
    "from sklearn.svm import SVC\n",
    "from sklearn.metrics import accuracy_score\n",
    "\n",
    "for d in range(len(names)):\n",
    "        print(names[d])\n",
    "        svm = SVC().fit(X_train_sets[d], labels_train[d])\n",
    "        predictions = svm.predict(X_test_sets[d])\n",
    "        accuracy = accuracy_score(labels_test[d], predictions)\n",
    "        print(\"acc:\", accuracy)\n"
   ]
  },
  {
   "cell_type": "code",
   "execution_count": 50,
   "metadata": {},
   "outputs": [
    {
     "name": "stdout",
     "output_type": "stream",
     "text": [
      "smaller chinese\n",
      "acc: 0.9285\n",
      "mnist\n",
      "acc: 0.765\n"
     ]
    }
   ],
   "source": [
    "from sklearn.ensemble import RandomForestClassifier\n",
    "from sklearn.metrics import accuracy_score\n",
    "\n",
    "\n",
    "for d in range(len(names)):\n",
    "        print(names[d])\n",
    "\n",
    "        clf = RandomForestClassifier(n_estimators=200 ,max_depth=10, random_state=0)\n",
    "        clf.fit(X_train_sets[d], labels_train[d])\n",
    "        predictions = clf.predict(X_test_sets[d])\n",
    "        accuracy = accuracy_score(labels_test[d], predictions)\n",
    "        print(\"acc:\", accuracy)"
   ]
  },
  {
   "attachments": {},
   "cell_type": "markdown",
   "metadata": {},
   "source": [
    "## without islands\n",
    "KNN\n",
    "    smaller chinese\n",
    "    acc: 0.435\n",
    "    mnist\n",
    "    acc: 0.2815\n",
    "\n",
    "SVM\n",
    "    smaller chinese\n",
    "    acc: 0.3065\n",
    "    mnist\n",
    "    acc: 0.2925\n",
    "\n",
    "Random Forest\n",
    "    smaller chinese\n",
    "    acc: 0.8625\n",
    "    mnist\n",
    "    acc: 0.749\n",
    "\n",
    "## with islands\n",
    "KNN\n",
    "    smaller chinese\n",
    "    acc: 0.4525\n",
    "    mnist\n",
    "    acc: 0.2775\n",
    "\n",
    "SVM\n",
    "    smaller chinese\n",
    "    acc: 0.3075\n",
    "    mnist\n",
    "    acc: 0.2925\n",
    "    \n",
    "Random Forest\n",
    "   smaller chinese\n",
    "    acc: 0.874   (i saw this go over 0.91)\n",
    "    mnist\n",
    "    acc: 0.769"
   ]
  }
 ],
 "metadata": {
  "kernelspec": {
   "display_name": "Python 3",
   "language": "python",
   "name": "python3"
  },
  "language_info": {
   "codemirror_mode": {
    "name": "ipython",
    "version": 3
   },
   "file_extension": ".py",
   "mimetype": "text/x-python",
   "name": "python",
   "nbconvert_exporter": "python",
   "pygments_lexer": "ipython3",
   "version": "3.11.0 (main, Oct 24 2022, 18:26:48) [MSC v.1933 64 bit (AMD64)]"
  },
  "orig_nbformat": 4,
  "vscode": {
   "interpreter": {
    "hash": "b92c64ddd97bd75b75879c676e53789d19cf25aafb287fcc8a3273f02b13a1d2"
   }
  }
 },
 "nbformat": 4,
 "nbformat_minor": 2
}
